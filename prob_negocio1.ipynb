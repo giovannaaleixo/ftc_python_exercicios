{
  "nbformat": 4,
  "nbformat_minor": 0,
  "metadata": {
    "colab": {
      "provenance": [],
      "authorship_tag": "ABX9TyNfYZiyjunPihebrM29+1Y1",
      "include_colab_link": true
    },
    "kernelspec": {
      "name": "python3",
      "display_name": "Python 3"
    },
    "language_info": {
      "name": "python"
    }
  },
  "cells": [
    {
      "cell_type": "markdown",
      "metadata": {
        "id": "view-in-github",
        "colab_type": "text"
      },
      "source": [
        "<a href=\"https://colab.research.google.com/github/giovannaaleixo/ftc_python_exercicios/blob/main/prob_negocio1.ipynb\" target=\"_parent\"><img src=\"https://colab.research.google.com/assets/colab-badge.svg\" alt=\"Open In Colab\"/></a>"
      ]
    },
    {
      "cell_type": "markdown",
      "source": [
        "# Problema de Negócio FTC:\n",
        "Descontos na Blackweek lanchonete"
      ],
      "metadata": {
        "id": "Y9MFKaFM0rrq"
      }
    },
    {
      "cell_type": "code",
      "source": [
        "desc_base = [0.1, 0.2, 0.3, 0.4, 0.5, 0.6, 0.7]\n",
        "prev_pedidos = [400, 100, 3600, 4100, 4900, 7600, 9500]\n",
        "prev_base = [1000, 2000, 3000, 4000, 5000, 6000, 7000]\n",
        "dias_da_semana = [1, 2, 3, 4, 5, 6, 7]\n",
        "\n",
        "desconto_diario = list()\n",
        "\n",
        "for dia in dias_da_semana:\n",
        "  if prev_pedidos[dia-1] > prev_base[dia-1]:\n",
        "    desconto_final = desc_base[dia-1] + ((prev_pedidos[dia-1] - prev_base[dia-1])/100)/100 #[dia-1] devido ao numero de elementos começar diferente nas outras listas\n",
        "    desconto_diario.append(desconto_final) #guardar os descontos diarios numa lista\n",
        "\n",
        "  else:\n",
        "    desconto_final = desc_base[dia-1]\n",
        "    desconto_diario.append(desconto_final)\n",
        "\n",
        "print(\"O desconto final é: \")\n",
        "print(desconto_diario)"
      ],
      "metadata": {
        "colab": {
          "base_uri": "https://localhost:8080/"
        },
        "id": "ORvFdfpj07gm",
        "outputId": "caef937b-6ea5-42dd-d21b-5b18965cb244"
      },
      "execution_count": null,
      "outputs": [
        {
          "output_type": "stream",
          "name": "stdout",
          "text": [
            "O desconto final é: \n",
            "[0.1, 0.2, 0.36, 0.41000000000000003, 0.5, 0.76, 0.95]\n"
          ]
        }
      ]
    }
  ]
}